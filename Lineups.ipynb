{
  "nbformat": 4,
  "nbformat_minor": 0,
  "metadata": {
    "colab": {
      "provenance": []
    },
    "kernelspec": {
      "name": "python3",
      "display_name": "Python 3"
    },
    "language_info": {
      "name": "python"
    }
  },
  "cells": [
    {
      "cell_type": "code",
      "execution_count": null,
      "metadata": {
        "id": "xhCMvQCCO0O1",
        "colab": {
          "base_uri": "https://localhost:8080/"
        },
        "outputId": "f5f4c82e-c5ff-455b-9227-0dde9acefb04"
      },
      "outputs": [
        {
          "output_type": "execute_result",
          "data": {
            "text/plain": [
              "Index(['Player 1 Number', 'Player 1 Name', 'Player 2 Number', 'Player 2 Name',\n",
              "       'Player 3 Number', 'Player 3 Name', 'Player 4 Number', 'Player 4 Name',\n",
              "       'Player 5 Number', 'Player 5 Name', 'POSS', 'PTS', 'PPP', 'TO', 'TO%',\n",
              "       'FG ATT', 'FG MADE', 'FG MISS', 'FG%', 'EFG%', 'SSQ', 'Weighted SSQ',\n",
              "       'PPS', 'Weighted PPS', 'SSM', '2 FG ATT', '2 FG MADE', '2 FG MISS',\n",
              "       '2 FG%', '3FG ATT', '3 FG MADE', '3 FG MISS', '3 FG%', 'FT ATT',\n",
              "       'FT MADE', 'FT MISS', 'FT%', '%SF', 'Total SF', 'SCORE%',\n",
              "       'Total Scoring Possessions', 'AND 1', 'AND 1 %', 'Offense/Defense',\n",
              "       'Game Number', 'Player 1 Team', 'Player 2 Team', 'Player 3 Team',\n",
              "       'Player 4 Team', 'Player 5 Team', 'Team', 'Unique Lineup String'],\n",
              "      dtype='object')"
            ]
          },
          "metadata": {},
          "execution_count": 1
        }
      ],
      "source": [
        "import pandas as pd\n",
        "df = pd.read_csv('lineups.csv')\n",
        "\n",
        "df.columns"
      ]
    },
    {
      "cell_type": "code",
      "source": [
        "teams = list(df['Team'].unique())"
      ],
      "metadata": {
        "id": "6vqYZMogSEX4"
      },
      "execution_count": null,
      "outputs": []
    },
    {
      "cell_type": "code",
      "source": [
        "stats = ['POSS', 'PTS', 'TO',\n",
        "       'FG ATT', 'FG MADE', 'FG MISS', 'Weighted SSQ',\n",
        "       '2 FG ATT', '2 FG MADE', '2 FG MISS',\n",
        "       '3FG ATT', '3 FG MADE', '3 FG MISS', 'FT ATT',\n",
        "       'FT MADE', 'FT MISS', 'Total SF',\n",
        "       'Total Scoring Possessions', 'AND 1']"
      ],
      "metadata": {
        "id": "Hm5V7KlLg6RZ"
      },
      "execution_count": null,
      "outputs": []
    },
    {
      "cell_type": "code",
      "source": [
        "def create_stats(df):\n",
        "  df['PPP'] = df['PTS']/df['POSS']\n",
        "  df['TO%'] = df['TO']/df['POSS']\n",
        "  df['FG%'] = df['FG MADE']/df['FG ATT']\n",
        "  df['EFG%'] = (df['FG MADE'] + (1.5*df['3 FG MADE']))/df['FG ATT']\n",
        "  df['SSQ'] = df['Weighted SSQ']/df['FG ATT']\n",
        "  df['PPS'] = df['PTS']/df['FG ATT']\n",
        "  df['Weighted PPS'] = df['PPS']*df['FG ATT']"
      ],
      "metadata": {
        "id": "f1HV7qy5hpeA"
      },
      "execution_count": null,
      "outputs": []
    },
    {
      "cell_type": "code",
      "source": [
        "from itertools import combinations\n",
        "\n",
        "two_stats_off = {}\n",
        "two_stats_def = {}\n",
        "\n",
        "three_off = {}\n",
        "three_def = {}\n",
        "\n",
        "four_off = {}\n",
        "four_def = {}\n",
        "\n",
        "five_off = {}\n",
        "five_def = {}\n",
        "\n",
        "for team in teams:\n",
        "\n",
        "  df.loc[:, 'SSM'] = df['SSM'].str.replace('+', '')\n",
        "\n",
        "  for col in stats:\n",
        "    df[col] = pd.to_numeric(df[col], errors='coerce')\n",
        "\n",
        "  team_df = df.loc[(df['Team'] == team)]\n",
        "  players = pd.concat([team_df['Player 1 Name'], team_df['Player 2 Name'], team_df['Player 3 Name'], team_df['Player 4 Name'], team_df['Player 5 Name']]).unique()\n",
        "\n",
        "  twos = list(combinations(players, r = 2))\n",
        "  threes = list(combinations(players, r = 3))\n",
        "  fours = list(combinations(players, r = 4))\n",
        "  fives = list(combinations(players, r = 5))\n",
        "\n",
        "  team_off = team_df.loc[team_df['Offense/Defense'] == 'Offense']\n",
        "  team_def = team_df.loc[team_df['Offense/Defense'] == 'Defense']\n",
        "\n",
        "  for i, row in team_def.iterrows():\n",
        "\n",
        "      for five in fives:\n",
        "\n",
        "        if five[0] in row[\"Unique Lineup String\"] and five[1] in row[\"Unique Lineup String\"] and five[2] in row['Unique Lineup String'] and five[3] in row['Unique Lineup String'] and five[4] in row['Unique Lineup String']:\n",
        "\n",
        "            if five not in five_def:\n",
        "                five_def[five] = {stat: row[stat] for stat in stats}\n",
        "                five_def[five]['Team'] = team\n",
        "\n",
        "            else:\n",
        "                for stat in stats:\n",
        "                    five_def[five][stat] += row[stat]\n",
        "\n",
        "  for i, row in team_def.iterrows():\n",
        "\n",
        "    for five in fives:\n",
        "\n",
        "        if five[0] in row[\"Unique Lineup String\"] and five[1] in row[\"Unique Lineup String\"] and five[2] in row['Unique Lineup String'] and five[3] in row['Unique Lineup String'] and five[4] in row['Unique Lineup String']:\n",
        "\n",
        "            if five not in five_def:\n",
        "                five_def[five] = {stat: row[stat] for stat in stats}\n",
        "                five_def[five]['Team'] = team\n",
        "\n",
        "            else:\n",
        "                for stat in stats:\n",
        "                    five_def[five][stat] += row[stat]\n",
        "\n",
        "    for two in twos:\n",
        "\n",
        "     if two[0] in row[\"Unique Lineup String\"] and two[1] in row[\"Unique Lineup String\"]:\n",
        "\n",
        "        if two not in two_stats_off:\n",
        "          two_stats_off[two] = {stat: row[stat] for stat in stats}\n",
        "          two_stats_off[two]['Team'] = team\n",
        "\n",
        "        else:\n",
        "         for stat in stats:\n",
        "          two_stats_off[two][stat] += row[stat]\n",
        "\n",
        "     else:\n",
        "       continue\n",
        "\n",
        "  for i, row in team_def.iterrows():\n",
        "\n",
        "    for two in twos:\n",
        "\n",
        "     if two[0] in row[\"Unique Lineup String\"] and two[1] in row[\"Unique Lineup String\"]:\n",
        "\n",
        "        if two not in two_stats_def:\n",
        "          two_stats_def[two] = {stat: row[stat] for stat in stats}\n",
        "          two_stats_def[two]['Team'] = team\n",
        "\n",
        "        else:\n",
        "         for stat in stats:\n",
        "          two_stats_def[two][stat] += row[stat]\n",
        "\n",
        "     else:\n",
        "       continue\n",
        "\n",
        "  for i, row in team_off.iterrows():\n",
        "\n",
        "    for three in threes:\n",
        "\n",
        "      if three[0] in row[\"Unique Lineup String\"] and three[1] in row[\"Unique Lineup String\"] and three[2] in row['Unique Lineup String']:\n",
        "\n",
        "        if three not in three_off:\n",
        "          three_off[three] = {stat: row[stat] for stat in stats}\n",
        "          three_off[three]['Team'] = team\n",
        "\n",
        "        else:\n",
        "          for stat in stats:\n",
        "            three_off[three][stat] += row[stat]\n",
        "\n",
        "  for i, row in team_def.iterrows():\n",
        "\n",
        "    for three in threes:\n",
        "\n",
        "      if three[0] in row[\"Unique Lineup String\"] and three[1] in row[\"Unique Lineup String\"] and three[2] in row['Unique Lineup String']:\n",
        "\n",
        "        if three not in three_def:\n",
        "          three_def[three] = {stat: row[stat] for stat in stats}\n",
        "          three_def[three]['Team'] = team\n",
        "\n",
        "        else:\n",
        "          for stat in stats:\n",
        "            three_def[three][stat] += row[stat]\n",
        "\n",
        "\n",
        "  for i, row in team_off.iterrows():\n",
        "\n",
        "    for four in fours:\n",
        "\n",
        "        if four[0] in row[\"Unique Lineup String\"] and four[1] in row[\"Unique Lineup String\"] and four[2] in row['Unique Lineup String'] and four[3] in row['Unique Lineup String']:\n",
        "\n",
        "            if four not in four_off:\n",
        "                four_off[four] = {stat: row[stat] for stat in stats}\n",
        "                four_off[four]['Team'] = team\n",
        "\n",
        "            else:\n",
        "                for stat in stats:\n",
        "                    four_off[four][stat] += row[stat]\n",
        "\n",
        "  for i, row in team_def.iterrows():\n",
        "\n",
        "    for four in fours:\n",
        "\n",
        "        if four[0] in row[\"Unique Lineup String\"] and four[1] in row[\"Unique Lineup String\"] and four[2] in row['Unique Lineup String'] and four[3] in row['Unique Lineup String']:\n",
        "\n",
        "            if four not in four_def:\n",
        "                four_def[four] = {stat: row[stat] for stat in stats}\n",
        "                four_def[four]['Team'] = team\n",
        "\n",
        "            else:\n",
        "                for stat in stats:\n",
        "                    four_def[four][stat] += row[stat]\n",
        "\n",
        "\n",
        "\n",
        "two_stats_off_df = pd.DataFrame.from_dict(two_stats_off, orient='index').reset_index().rename(columns={'level_0': 'Player 1', 'level_1':'Player 2'})\n",
        "two_stats_def_df = pd.DataFrame.from_dict(two_stats_def, orient='index').reset_index().rename(columns={'level_0': 'Player 1', 'level_1':'Player 2'})\n",
        "\n",
        "create_stats(two_stats_off_df)\n",
        "create_stats(two_stats_def_df)\n",
        "\n",
        "three_off_df = pd.DataFrame.from_dict(three_off, orient='index').reset_index().rename(columns={'level_0': 'Player 1', 'level_1':'Player 2', 'level_2':'Player 3'})\n",
        "three_def_df = pd.DataFrame.from_dict(three_def, orient='index').reset_index().rename(columns={'level_0': 'Player 1', 'level_1':'Player 2', 'level_2':'Player 3'})\n",
        "\n",
        "create_stats(three_off_df)\n",
        "create_stats(three_def_df)\n",
        "\n",
        "four_off_df = pd.DataFrame.from_dict(four_off, orient='index').reset_index().rename(columns={'level_0': 'Player 1', 'level_1':'Player 2', 'level_2':'Player 3', 'level_3':'Player 4'})\n",
        "four_def_df = pd.DataFrame.from_dict(four_def, orient='index').reset_index().rename(columns={'level_0': 'Player 1', 'level_1':'Player 2', 'level_2':'Player 3', 'level_3':'Player 4'})\n",
        "\n",
        "create_stats(four_off_df)\n",
        "create_stats(four_def_df)\n",
        "\n",
        "five_off_df = pd.DataFrame.from_dict(five_off, orient='index').reset_index().rename(columns={'level_0': 'Player 1', 'level_1':'Player 2', 'level_2':'Player 3', 'level_3':'Player 4', 'level_4':'Player 5'})\n",
        "five_def_df = pd.DataFrame.from_dict(five_def, orient='index').reset_index().rename(columns={'level_0': 'Player 1', 'level_1':'Player 2', 'level_2':'Player 3', 'level_3':'Player 4', 'level_4':'Player 5'})\n",
        "\n",
        "create_stats(five_off_df)\n",
        "create_stats(five_def_df)"
      ],
      "metadata": {
        "id": "ozEOP8iWe0TT",
        "colab": {
          "base_uri": "https://localhost:8080/"
        },
        "outputId": "81aba09c-20af-4647-fff7-8f530b4c033c"
      },
      "execution_count": null,
      "outputs": [
        {
          "output_type": "stream",
          "name": "stderr",
          "text": [
            "<ipython-input-18-881466dcecac>:17: FutureWarning: The default value of regex will change from True to False in a future version. In addition, single character regular expressions will *not* be treated as literal strings when regex=True.\n",
            "  df.loc[:, 'SSM'] = df['SSM'].str.replace('+', '')\n",
            "<ipython-input-18-881466dcecac>:17: FutureWarning: The default value of regex will change from True to False in a future version. In addition, single character regular expressions will *not* be treated as literal strings when regex=True.\n",
            "  df.loc[:, 'SSM'] = df['SSM'].str.replace('+', '')\n",
            "<ipython-input-18-881466dcecac>:17: FutureWarning: The default value of regex will change from True to False in a future version. In addition, single character regular expressions will *not* be treated as literal strings when regex=True.\n",
            "  df.loc[:, 'SSM'] = df['SSM'].str.replace('+', '')\n",
            "<ipython-input-18-881466dcecac>:17: FutureWarning: The default value of regex will change from True to False in a future version. In addition, single character regular expressions will *not* be treated as literal strings when regex=True.\n",
            "  df.loc[:, 'SSM'] = df['SSM'].str.replace('+', '')\n",
            "<ipython-input-18-881466dcecac>:17: FutureWarning: The default value of regex will change from True to False in a future version. In addition, single character regular expressions will *not* be treated as literal strings when regex=True.\n",
            "  df.loc[:, 'SSM'] = df['SSM'].str.replace('+', '')\n",
            "<ipython-input-18-881466dcecac>:17: FutureWarning: The default value of regex will change from True to False in a future version. In addition, single character regular expressions will *not* be treated as literal strings when regex=True.\n",
            "  df.loc[:, 'SSM'] = df['SSM'].str.replace('+', '')\n",
            "<ipython-input-18-881466dcecac>:17: FutureWarning: The default value of regex will change from True to False in a future version. In addition, single character regular expressions will *not* be treated as literal strings when regex=True.\n",
            "  df.loc[:, 'SSM'] = df['SSM'].str.replace('+', '')\n",
            "<ipython-input-18-881466dcecac>:17: FutureWarning: The default value of regex will change from True to False in a future version. In addition, single character regular expressions will *not* be treated as literal strings when regex=True.\n",
            "  df.loc[:, 'SSM'] = df['SSM'].str.replace('+', '')\n",
            "<ipython-input-18-881466dcecac>:17: FutureWarning: The default value of regex will change from True to False in a future version. In addition, single character regular expressions will *not* be treated as literal strings when regex=True.\n",
            "  df.loc[:, 'SSM'] = df['SSM'].str.replace('+', '')\n",
            "<ipython-input-18-881466dcecac>:17: FutureWarning: The default value of regex will change from True to False in a future version. In addition, single character regular expressions will *not* be treated as literal strings when regex=True.\n",
            "  df.loc[:, 'SSM'] = df['SSM'].str.replace('+', '')\n",
            "<ipython-input-18-881466dcecac>:17: FutureWarning: The default value of regex will change from True to False in a future version. In addition, single character regular expressions will *not* be treated as literal strings when regex=True.\n",
            "  df.loc[:, 'SSM'] = df['SSM'].str.replace('+', '')\n",
            "<ipython-input-18-881466dcecac>:17: FutureWarning: The default value of regex will change from True to False in a future version. In addition, single character regular expressions will *not* be treated as literal strings when regex=True.\n",
            "  df.loc[:, 'SSM'] = df['SSM'].str.replace('+', '')\n"
          ]
        }
      ]
    },
    {
      "cell_type": "code",
      "source": [
        "five_def_df['Possession'] = 'Defense'\n",
        "five_off_df['Possession'] = 'Offense'\n",
        "\n",
        "five_man = pd.concat([five_off_df, five_def_df])"
      ],
      "metadata": {
        "id": "C9osmtqaFZaU"
      },
      "execution_count": null,
      "outputs": []
    },
    {
      "cell_type": "code",
      "source": [
        "three_off_df['Possession'] = 'Offense'\n",
        "four_off_df['Possession'] = 'Offense'\n",
        "two_stats_off_df['Possession'] = 'Offense'\n",
        "five_off_df['Possession'] = 'Offense'\n",
        "three_def_df['Possession'] = 'Defense'\n",
        "four_def_df['Possession'] = 'Defense'\n",
        "two_stats_def_df['Possession'] = 'Defense'\n",
        "five_def_df['Possession'] = 'Defense'\n",
        "\n",
        "three_man = pd.concat([three_off_df, three_def_df])\n",
        "two_man = pd.concat([two_stats_off_df, two_stats_def_df])\n",
        "four_man = pd.concat([four_off_df, four_def_df])\n",
        "five_man = pd.concat([five_off_df, five_def_df])"
      ],
      "metadata": {
        "id": "XgsuUldEBX2l"
      },
      "execution_count": null,
      "outputs": []
    },
    {
      "cell_type": "code",
      "source": [
        "five_man.to_csv('five_man.csv', index = False)\n",
        "four_man.to_csv('four_man.csv', index=False)\n",
        "three_man.to_csv('three_man.csv', index=False)\n",
        "two_man.to_csv('two_man.csv', index=False)"
      ],
      "metadata": {
        "id": "uosZOzcptPPe"
      },
      "execution_count": null,
      "outputs": []
    }
  ]
}